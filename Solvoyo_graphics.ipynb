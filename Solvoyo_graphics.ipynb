{
 "cells": [
  {
   "cell_type": "markdown",
   "metadata": {},
   "source": [
    "There is given fashion company's 5-day sales data. With this data, I will analyse and comment on the data.\n",
    "\n",
    "First, we can import libraries that we will be using, after that we can download tthe data and see inside of it."
   ]
  },
  {
   "cell_type": "code",
   "execution_count": 45,
   "metadata": {},
   "outputs": [],
   "source": [
    "import pandas as pd\n",
    "import numpy as np\n",
    "import matplotlib.pyplot as plt"
   ]
  },
  {
   "cell_type": "code",
   "execution_count": 35,
   "metadata": {},
   "outputs": [],
   "source": [
    "data = pd.read_csv(r\"C:\\Users\\gmdemirci\\Desktop\\SOLVOYO_04.2019\\solvoyo.csv\")"
   ]
  },
  {
   "cell_type": "code",
   "execution_count": 36,
   "metadata": {},
   "outputs": [
    {
     "data": {
      "text/html": [
       "<div>\n",
       "<style scoped>\n",
       "    .dataframe tbody tr th:only-of-type {\n",
       "        vertical-align: middle;\n",
       "    }\n",
       "\n",
       "    .dataframe tbody tr th {\n",
       "        vertical-align: top;\n",
       "    }\n",
       "\n",
       "    .dataframe thead th {\n",
       "        text-align: right;\n",
       "    }\n",
       "</style>\n",
       "<table border=\"1\" class=\"dataframe\">\n",
       "  <thead>\n",
       "    <tr style=\"text-align: right;\">\n",
       "      <th></th>\n",
       "      <th>Date</th>\n",
       "      <th>Store Code</th>\n",
       "      <th>Product Code</th>\n",
       "      <th>Store Stock Quantity</th>\n",
       "      <th>Warehouse Stock Quantity</th>\n",
       "      <th>Sales Quantity</th>\n",
       "      <th>Daily Avg Sales Quantity</th>\n",
       "    </tr>\n",
       "  </thead>\n",
       "  <tbody>\n",
       "    <tr>\n",
       "      <th>0</th>\n",
       "      <td>42370</td>\n",
       "      <td>4</td>\n",
       "      <td>6300249074782</td>\n",
       "      <td>0</td>\n",
       "      <td>43</td>\n",
       "      <td>0</td>\n",
       "      <td>2</td>\n",
       "    </tr>\n",
       "    <tr>\n",
       "      <th>1</th>\n",
       "      <td>42370</td>\n",
       "      <td>4</td>\n",
       "      <td>6300250058993</td>\n",
       "      <td>43</td>\n",
       "      <td>60</td>\n",
       "      <td>17</td>\n",
       "      <td>2</td>\n",
       "    </tr>\n",
       "    <tr>\n",
       "      <th>2</th>\n",
       "      <td>42370</td>\n",
       "      <td>4</td>\n",
       "      <td>6300250059006</td>\n",
       "      <td>86</td>\n",
       "      <td>146</td>\n",
       "      <td>10</td>\n",
       "      <td>2</td>\n",
       "    </tr>\n",
       "    <tr>\n",
       "      <th>3</th>\n",
       "      <td>42370</td>\n",
       "      <td>4</td>\n",
       "      <td>6300250059013</td>\n",
       "      <td>43</td>\n",
       "      <td>94</td>\n",
       "      <td>5</td>\n",
       "      <td>3</td>\n",
       "    </tr>\n",
       "    <tr>\n",
       "      <th>4</th>\n",
       "      <td>42370</td>\n",
       "      <td>4</td>\n",
       "      <td>6300250059020</td>\n",
       "      <td>180</td>\n",
       "      <td>26</td>\n",
       "      <td>20</td>\n",
       "      <td>2</td>\n",
       "    </tr>\n",
       "  </tbody>\n",
       "</table>\n",
       "</div>"
      ],
      "text/plain": [
       "    Date  Store Code   Product Code  Store Stock Quantity  \\\n",
       "0  42370           4  6300249074782                     0   \n",
       "1  42370           4  6300250058993                    43   \n",
       "2  42370           4  6300250059006                    86   \n",
       "3  42370           4  6300250059013                    43   \n",
       "4  42370           4  6300250059020                   180   \n",
       "\n",
       "   Warehouse Stock Quantity  Sales Quantity  Daily Avg Sales Quantity  \n",
       "0                        43               0                         2  \n",
       "1                        60              17                         2  \n",
       "2                       146              10                         2  \n",
       "3                        94               5                         3  \n",
       "4                        26              20                         2  "
      ]
     },
     "execution_count": 36,
     "metadata": {},
     "output_type": "execute_result"
    }
   ],
   "source": [
    "data.head()"
   ]
  },
  {
   "cell_type": "markdown",
   "metadata": {},
   "source": [
    "When we look at the first 5 rows, it looks like Date translated into integer numbers. We can check them and change into string dates."
   ]
  },
  {
   "cell_type": "code",
   "execution_count": 37,
   "metadata": {},
   "outputs": [
    {
     "data": {
      "text/plain": [
       "array([42370, 42371, 42372, 42373, 42374], dtype=int64)"
      ]
     },
     "execution_count": 37,
     "metadata": {},
     "output_type": "execute_result"
    }
   ],
   "source": [
    "data[\"Date\"].unique()"
   ]
  },
  {
   "cell_type": "markdown",
   "metadata": {},
   "source": [
    "Since we know the numbers for the dates, we can switch them into written mode:"
   ]
  },
  {
   "cell_type": "code",
   "execution_count": 38,
   "metadata": {},
   "outputs": [],
   "source": [
    "data[\"Date\"] = [ \"1 Ocak 2016\" if each==42370 else each for each in data.Date]\n",
    "data[\"Date\"] = [ \"2 Ocak 2016\" if each==42371 else each for each in data.Date]\n",
    "data[\"Date\"] = [ \"3 Ocak 2016\" if each==42372 else each for each in data.Date]\n",
    "data[\"Date\"] = [ \"4 Ocak 2016\" if each==42373 else each for each in data.Date]\n",
    "data[\"Date\"] = [ \"5 Ocak 2016\" if each==42374 else each for each in data.Date]"
   ]
  },
  {
   "cell_type": "code",
   "execution_count": 39,
   "metadata": {},
   "outputs": [
    {
     "data": {
      "text/plain": [
       "array(['1 Ocak 2016', '2 Ocak 2016', '3 Ocak 2016', '4 Ocak 2016',\n",
       "       '5 Ocak 2016'], dtype=object)"
      ]
     },
     "execution_count": 39,
     "metadata": {},
     "output_type": "execute_result"
    }
   ],
   "source": [
    "data.Date.unique()\n",
    "# it's all good!"
   ]
  },
  {
   "cell_type": "code",
   "execution_count": 72,
   "metadata": {},
   "outputs": [
    {
     "data": {
      "text/html": [
       "<div>\n",
       "<style scoped>\n",
       "    .dataframe tbody tr th:only-of-type {\n",
       "        vertical-align: middle;\n",
       "    }\n",
       "\n",
       "    .dataframe tbody tr th {\n",
       "        vertical-align: top;\n",
       "    }\n",
       "\n",
       "    .dataframe thead th {\n",
       "        text-align: right;\n",
       "    }\n",
       "</style>\n",
       "<table border=\"1\" class=\"dataframe\">\n",
       "  <thead>\n",
       "    <tr style=\"text-align: right;\">\n",
       "      <th></th>\n",
       "      <th>Store Code</th>\n",
       "      <th>Product Code</th>\n",
       "      <th>Store Stock Quantity</th>\n",
       "      <th>Warehouse Stock Quantity</th>\n",
       "      <th>Sales Quantity</th>\n",
       "      <th>Daily Avg Sales Quantity</th>\n",
       "    </tr>\n",
       "  </thead>\n",
       "  <tbody>\n",
       "    <tr>\n",
       "      <th>count</th>\n",
       "      <td>3680.000000</td>\n",
       "      <td>3.680000e+03</td>\n",
       "      <td>3680.000000</td>\n",
       "      <td>3680.000000</td>\n",
       "      <td>3680.000000</td>\n",
       "      <td>3680.000000</td>\n",
       "    </tr>\n",
       "    <tr>\n",
       "      <th>mean</th>\n",
       "      <td>12.500000</td>\n",
       "      <td>6.300250e+12</td>\n",
       "      <td>41.491576</td>\n",
       "      <td>110.835870</td>\n",
       "      <td>7.365217</td>\n",
       "      <td>3.638587</td>\n",
       "    </tr>\n",
       "    <tr>\n",
       "      <th>std</th>\n",
       "      <td>5.220863</td>\n",
       "      <td>1.431421e+05</td>\n",
       "      <td>34.591570</td>\n",
       "      <td>102.599103</td>\n",
       "      <td>9.967208</td>\n",
       "      <td>1.629215</td>\n",
       "    </tr>\n",
       "    <tr>\n",
       "      <th>min</th>\n",
       "      <td>4.000000</td>\n",
       "      <td>6.300249e+12</td>\n",
       "      <td>0.000000</td>\n",
       "      <td>0.000000</td>\n",
       "      <td>0.000000</td>\n",
       "      <td>2.000000</td>\n",
       "    </tr>\n",
       "    <tr>\n",
       "      <th>25%</th>\n",
       "      <td>10.750000</td>\n",
       "      <td>6.300250e+12</td>\n",
       "      <td>17.000000</td>\n",
       "      <td>34.000000</td>\n",
       "      <td>0.000000</td>\n",
       "      <td>2.000000</td>\n",
       "    </tr>\n",
       "    <tr>\n",
       "      <th>50%</th>\n",
       "      <td>14.000000</td>\n",
       "      <td>6.300250e+12</td>\n",
       "      <td>34.000000</td>\n",
       "      <td>86.000000</td>\n",
       "      <td>0.000000</td>\n",
       "      <td>4.000000</td>\n",
       "    </tr>\n",
       "    <tr>\n",
       "      <th>75%</th>\n",
       "      <td>15.750000</td>\n",
       "      <td>6.300250e+12</td>\n",
       "      <td>51.000000</td>\n",
       "      <td>163.000000</td>\n",
       "      <td>15.000000</td>\n",
       "      <td>5.000000</td>\n",
       "    </tr>\n",
       "    <tr>\n",
       "      <th>max</th>\n",
       "      <td>18.000000</td>\n",
       "      <td>6.300251e+12</td>\n",
       "      <td>249.000000</td>\n",
       "      <td>531.000000</td>\n",
       "      <td>50.000000</td>\n",
       "      <td>17.000000</td>\n",
       "    </tr>\n",
       "  </tbody>\n",
       "</table>\n",
       "</div>"
      ],
      "text/plain": [
       "        Store Code  Product Code  Store Stock Quantity  \\\n",
       "count  3680.000000  3.680000e+03           3680.000000   \n",
       "mean     12.500000  6.300250e+12             41.491576   \n",
       "std       5.220863  1.431421e+05             34.591570   \n",
       "min       4.000000  6.300249e+12              0.000000   \n",
       "25%      10.750000  6.300250e+12             17.000000   \n",
       "50%      14.000000  6.300250e+12             34.000000   \n",
       "75%      15.750000  6.300250e+12             51.000000   \n",
       "max      18.000000  6.300251e+12            249.000000   \n",
       "\n",
       "       Warehouse Stock Quantity  Sales Quantity  Daily Avg Sales Quantity  \n",
       "count               3680.000000     3680.000000               3680.000000  \n",
       "mean                 110.835870        7.365217                  3.638587  \n",
       "std                  102.599103        9.967208                  1.629215  \n",
       "min                    0.000000        0.000000                  2.000000  \n",
       "25%                   34.000000        0.000000                  2.000000  \n",
       "50%                   86.000000        0.000000                  4.000000  \n",
       "75%                  163.000000       15.000000                  5.000000  \n",
       "max                  531.000000       50.000000                 17.000000  "
      ]
     },
     "execution_count": 72,
     "metadata": {},
     "output_type": "execute_result"
    }
   ],
   "source": [
    "data.describe()"
   ]
  },
  {
   "cell_type": "markdown",
   "metadata": {},
   "source": [
    "Now first things first, let's check the describe of the data. We can focus on especially \"Store Stock Quantity\", \"Sales Quantity\", and \"Daily Avg Sales Quantity\" since the other data is constant given.\n",
    " \n",
    "\"Store Stock Quantity\" data has too much std. deviation. Its max. value 249 while its min. value is 0. Also, when its mean value is 41.49, there is a 34.5 standard deviation which is really high. \n",
    "\n",
    "\"Daily Avg Sales Quantity\" data seems perfectly stable, and there is very slightly std. deviation, however \"Sales Quantity\" is also changing. "
   ]
  },
  {
   "cell_type": "markdown",
   "metadata": {},
   "source": [
    "** Let's check average of these data for each day, and see whether there is a outlier:"
   ]
  },
  {
   "cell_type": "code",
   "execution_count": 80,
   "metadata": {},
   "outputs": [
    {
     "data": {
      "text/html": [
       "<div>\n",
       "<style scoped>\n",
       "    .dataframe tbody tr th:only-of-type {\n",
       "        vertical-align: middle;\n",
       "    }\n",
       "\n",
       "    .dataframe tbody tr th {\n",
       "        vertical-align: top;\n",
       "    }\n",
       "\n",
       "    .dataframe thead th {\n",
       "        text-align: right;\n",
       "    }\n",
       "</style>\n",
       "<table border=\"1\" class=\"dataframe\">\n",
       "  <thead>\n",
       "    <tr style=\"text-align: right;\">\n",
       "      <th></th>\n",
       "      <th>Date</th>\n",
       "      <th>Store Stock Quantity</th>\n",
       "      <th>Sales Quantity</th>\n",
       "      <th>Daily Avg Sales Quantity</th>\n",
       "    </tr>\n",
       "  </thead>\n",
       "  <tbody>\n",
       "    <tr>\n",
       "      <th>0</th>\n",
       "      <td>1 Ocak 2016</td>\n",
       "      <td>27339</td>\n",
       "      <td>5196</td>\n",
       "      <td>2706</td>\n",
       "    </tr>\n",
       "    <tr>\n",
       "      <th>1</th>\n",
       "      <td>2 Ocak 2016</td>\n",
       "      <td>31952</td>\n",
       "      <td>6217</td>\n",
       "      <td>2704</td>\n",
       "    </tr>\n",
       "    <tr>\n",
       "      <th>2</th>\n",
       "      <td>3 Ocak 2016</td>\n",
       "      <td>30934</td>\n",
       "      <td>5261</td>\n",
       "      <td>2674</td>\n",
       "    </tr>\n",
       "    <tr>\n",
       "      <th>3</th>\n",
       "      <td>4 Ocak 2016</td>\n",
       "      <td>31106</td>\n",
       "      <td>5256</td>\n",
       "      <td>2663</td>\n",
       "    </tr>\n",
       "    <tr>\n",
       "      <th>4</th>\n",
       "      <td>5 Ocak 2016</td>\n",
       "      <td>31358</td>\n",
       "      <td>5174</td>\n",
       "      <td>2643</td>\n",
       "    </tr>\n",
       "  </tbody>\n",
       "</table>\n",
       "</div>"
      ],
      "text/plain": [
       "          Date  Store Stock Quantity  Sales Quantity  Daily Avg Sales Quantity\n",
       "0  1 Ocak 2016                 27339            5196                      2706\n",
       "1  2 Ocak 2016                 31952            6217                      2704\n",
       "2  3 Ocak 2016                 30934            5261                      2674\n",
       "3  4 Ocak 2016                 31106            5256                      2663\n",
       "4  5 Ocak 2016                 31358            5174                      2643"
      ]
     },
     "execution_count": 80,
     "metadata": {},
     "output_type": "execute_result"
    }
   ],
   "source": [
    "data.groupby('Date', as_index=False).agg({\"Store Stock Quantity\": \"sum\",\"Sales Quantity\":\"sum\", \n",
    "                                          \"Daily Avg Sales Quantity\":\"sum\"})"
   ]
  },
  {
   "cell_type": "markdown",
   "metadata": {},
   "source": [
    "There is no very sharp changing through the days. It looks like there is no abnormal data."
   ]
  },
  {
   "cell_type": "markdown",
   "metadata": {},
   "source": [
    "Let's check three important data individually:"
   ]
  },
  {
   "cell_type": "code",
   "execution_count": 90,
   "metadata": {},
   "outputs": [
    {
     "data": {
      "image/png": "[encoded data removed]",
      "text/plain": [
       "<Figure size 432x288 with 1 Axes>"
      ]
     },
     "metadata": {
      "needs_background": "light"
     },
     "output_type": "display_data"
    }
   ],
   "source": [
    "plt.plot(data[\"Store Stock Quantity\"])\n",
    "plt.ylabel('Store Stock Quantity')\n",
    "plt.title('Store Stock Quantity')\n",
    "plt.show()"
   ]
  },
  {
   "cell_type": "markdown",
   "metadata": {},
   "source": [
    "*Store Stock Quantity* steadily increase and decreasing. There is no extreme point to observe."
   ]
  },
  {
   "cell_type": "code",
   "execution_count": 89,
   "metadata": {},
   "outputs": [
    {
     "data": {
      "image/png": "[encoded data removed]",
      "text/plain": [
       "<Figure size 432x288 with 1 Axes>"
      ]
     },
     "metadata": {
      "needs_background": "light"
     },
     "output_type": "display_data"
    }
   ],
   "source": [
    "plt.plot(data[\"Sales Quantity\"], color=\"g\")\n",
    "plt.title('Sales Quantity')\n",
    "plt.show()"
   ]
  },
  {
   "cell_type": "markdown",
   "metadata": {},
   "source": [
    "*Sales Quantity* has again ups and downs but the extreme point to focus is not observed."
   ]
  },
  {
   "cell_type": "code",
   "execution_count": 88,
   "metadata": {},
   "outputs": [
    {
     "data": {
      "image/png": "[encoded data removed]",
      "text/plain": [
       "<Figure size 432x288 with 1 Axes>"
      ]
     },
     "metadata": {
      "needs_background": "light"
     },
     "output_type": "display_data"
    }
   ],
   "source": [
    "plt.plot(data[\"Daily Avg Sales Quantity\"], color=\"orange\")\n",
    "plt.title('Daily Avg Sales Quantity')\n",
    "plt.show()"
   ]
  },
  {
   "cell_type": "markdown",
   "metadata": {},
   "source": [
    "*Daily Avg. Sales* looks different which leads us to look for the data. The values are almost like a line, however there is sharply increasings."
   ]
  },
  {
   "cell_type": "code",
   "execution_count": 95,
   "metadata": {},
   "outputs": [
    {
     "data": {
      "image/png": "[encoded data removed]",
      "text/plain": [
       "<Figure size 432x288 with 1 Axes>"
      ]
     },
     "metadata": {
      "needs_background": "light"
     },
     "output_type": "display_data"
    },
    {
     "data": {
      "image/png": "[encoded data removed]",
      "text/plain": [
       "<Figure size 432x288 with 1 Axes>"
      ]
     },
     "metadata": {
      "needs_background": "light"
     },
     "output_type": "display_data"
    }
   ],
   "source": [
    "plt.scatter(data[\"Store Stock Quantity\"], data[\"Daily Avg Sales Quantity\"])\n",
    "plt.title('Store Stock Quantity vs Daily Avg Sales Quantity')\n",
    "plt.show()\n",
    "\n",
    "plt.scatter(data[\"Sales Quantity\"], data[\"Daily Avg Sales Quantity\"])\n",
    "plt.title('Sales Quantity vs Daily Avg Sales Quantity')\n",
    "plt.show()"
   ]
  },
  {
   "cell_type": "markdown",
   "metadata": {},
   "source": [
    "*Daily Avg Sales Quantity* values are not related with neither Sales nor Stock quantities. There should be problem."
   ]
  },
  {
   "cell_type": "code",
   "execution_count": 97,
   "metadata": {},
   "outputs": [
    {
     "data": {
      "image/png": "[encoded data removed]",
      "text/plain": [
       "<Figure size 432x288 with 1 Axes>"
      ]
     },
     "metadata": {
      "needs_background": "light"
     },
     "output_type": "display_data"
    }
   ],
   "source": [
    "plt.scatter(data[\"Store Stock Quantity\"], data[\"Sales Quantity\"])\n",
    "plt.title(\"Store Stock Quantity vs Sales Quantity\")\n",
    "plt.show()"
   ]
  },
  {
   "cell_type": "markdown",
   "metadata": {},
   "source": [
    "However, eventhough there is no exactlu perfect relation, it can ben seen that there is a slightly positive relationship betweeb Store Stock Quantity and Sales Quantity. This situation makes sense since we know that if there is a stock, customer likely to buy the product. However, from the graphics we can say that, company load too much products on store stock."
   ]
  }
 ],
 "metadata": {
  "kernelspec": {
   "display_name": "Python 3",
   "language": "python",
   "name": "python3"
  },
  "language_info": {
   "codemirror_mode": {
    "name": "ipython",
    "version": 3
   },
   "file_extension": ".py",
   "mimetype": "text/x-python",
   "name": "python",
   "nbconvert_exporter": "python",
   "pygments_lexer": "ipython3",
   "version": "3.7.1"
  }
 },
 "nbformat": 4,
 "nbformat_minor": 2
}
